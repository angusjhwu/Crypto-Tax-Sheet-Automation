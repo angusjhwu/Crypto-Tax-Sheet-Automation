{
 "cells": [
  {
   "cell_type": "code",
   "execution_count": null,
   "metadata": {},
   "outputs": [],
   "source": [
    "import pandas as pd\n",
    "from openpyxl import load_workbook"
   ]
  },
  {
   "cell_type": "markdown",
   "metadata": {},
   "source": [
    "## Input the filename for CAD/USD in data_src, and Dates in date_src"
   ]
  },
  {
   "cell_type": "code",
   "execution_count": null,
   "metadata": {},
   "outputs": [],
   "source": [
    "data_src = 'CAD=X.csv'\n",
    "date_src = 'dates.xlsx'"
   ]
  },
  {
   "cell_type": "code",
   "execution_count": null,
   "metadata": {
    "scrolled": true
   },
   "outputs": [],
   "source": [
    "sf = pd.read_csv(data_src)\n",
    "sf.head()"
   ]
  },
  {
   "cell_type": "code",
   "execution_count": null,
   "metadata": {
    "scrolled": false
   },
   "outputs": [],
   "source": [
    "sf.tail()"
   ]
  },
  {
   "cell_type": "code",
   "execution_count": null,
   "metadata": {},
   "outputs": [],
   "source": [
    "df = pd.read_excel(date_src)\n",
    "df.head()"
   ]
  },
  {
   "cell_type": "code",
   "execution_count": null,
   "metadata": {},
   "outputs": [],
   "source": [
    "df.tail()"
   ]
  },
  {
   "cell_type": "code",
   "execution_count": null,
   "metadata": {},
   "outputs": [],
   "source": [
    "prices = []\n",
    "rowsf = 0\n",
    "rowdf = 0\n",
    "szsf = len(sf)\n",
    "szdf = len(df)"
   ]
  },
  {
   "cell_type": "code",
   "execution_count": null,
   "metadata": {},
   "outputs": [],
   "source": [
    "while rowsf < szsf and rowdf < szdf:\n",
    "    if str(sf.iloc[rowsf,0]) == str(df.iloc[rowdf,0]):\n",
    "        prices.append(sf.iloc[rowsf, 2])\n",
    "        rowdf += 1\n",
    "    elif str(sf.iloc[rowsf,0]) >= str(df.iloc[rowdf,0]):\n",
    "        prices.append(sf.iloc[rowsf-1, 2])\n",
    "        rowdf += 1\n",
    "    rowsf += 1"
   ]
  },
  {
   "cell_type": "code",
   "execution_count": null,
   "metadata": {},
   "outputs": [],
   "source": [
    "wb = load_workbook(date_src)\n",
    "ws = wb['Sheet1']\n",
    "df_new = pd.DataFrame({'Price': prices})\n",
    "for index, row in df_new.iterrows():\n",
    "    cell = 'B%d' % (index + 2)\n",
    "    ws[cell] = row[0]\n",
    "wb.save(date_src)"
   ]
  }
 ],
 "metadata": {
  "kernelspec": {
   "display_name": "Python 3",
   "language": "python",
   "name": "python3"
  },
  "language_info": {
   "codemirror_mode": {
    "name": "ipython",
    "version": 3
   },
   "file_extension": ".py",
   "mimetype": "text/x-python",
   "name": "python",
   "nbconvert_exporter": "python",
   "pygments_lexer": "ipython3",
   "version": "3.7.4"
  }
 },
 "nbformat": 4,
 "nbformat_minor": 2
}
