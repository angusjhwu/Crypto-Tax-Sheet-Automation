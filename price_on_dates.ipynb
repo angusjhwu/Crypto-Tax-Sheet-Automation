{
 "cells": [
  {
   "cell_type": "code",
   "execution_count": 1,
   "metadata": {},
   "outputs": [],
   "source": [
    "import pandas as pd\n",
    "from openpyxl import load_workbook"
   ]
  },
  {
   "cell_type": "markdown",
   "metadata": {},
   "source": [
    "## Input the filename for CAD/USD in data_src, and Dates in date_src"
   ]
  },
  {
   "cell_type": "code",
   "execution_count": null,
   "metadata": {},
   "outputs": [],
   "source": [
    "data_src = 'CAD=X.csv'\n",
    "date_src = 'dates.xlsx'"
   ]
  },
  {
   "cell_type": "code",
   "execution_count": 2,
   "metadata": {
    "scrolled": true
   },
   "outputs": [
    {
     "data": {
      "text/html": [
       "<div>\n",
       "<style scoped>\n",
       "    .dataframe tbody tr th:only-of-type {\n",
       "        vertical-align: middle;\n",
       "    }\n",
       "\n",
       "    .dataframe tbody tr th {\n",
       "        vertical-align: top;\n",
       "    }\n",
       "\n",
       "    .dataframe thead th {\n",
       "        text-align: right;\n",
       "    }\n",
       "</style>\n",
       "<table border=\"1\" class=\"dataframe\">\n",
       "  <thead>\n",
       "    <tr style=\"text-align: right;\">\n",
       "      <th></th>\n",
       "      <th>Date</th>\n",
       "      <th>Open</th>\n",
       "      <th>High</th>\n",
       "      <th>Low</th>\n",
       "      <th>Close</th>\n",
       "      <th>Adj Close</th>\n",
       "      <th>Volume</th>\n",
       "    </tr>\n",
       "  </thead>\n",
       "  <tbody>\n",
       "    <tr>\n",
       "      <td>0</td>\n",
       "      <td>2021-01-06</td>\n",
       "      <td>1.26764</td>\n",
       "      <td>1.27186</td>\n",
       "      <td>1.26300</td>\n",
       "      <td>1.26747</td>\n",
       "      <td>1.26747</td>\n",
       "      <td>0</td>\n",
       "    </tr>\n",
       "    <tr>\n",
       "      <td>1</td>\n",
       "      <td>2021-01-07</td>\n",
       "      <td>1.26667</td>\n",
       "      <td>1.27327</td>\n",
       "      <td>1.26640</td>\n",
       "      <td>1.26654</td>\n",
       "      <td>1.26654</td>\n",
       "      <td>0</td>\n",
       "    </tr>\n",
       "    <tr>\n",
       "      <td>2</td>\n",
       "      <td>2021-01-08</td>\n",
       "      <td>1.26854</td>\n",
       "      <td>1.27194</td>\n",
       "      <td>1.26590</td>\n",
       "      <td>1.26838</td>\n",
       "      <td>1.26838</td>\n",
       "      <td>0</td>\n",
       "    </tr>\n",
       "    <tr>\n",
       "      <td>3</td>\n",
       "      <td>2021-01-11</td>\n",
       "      <td>1.27260</td>\n",
       "      <td>1.28341</td>\n",
       "      <td>1.27190</td>\n",
       "      <td>1.27308</td>\n",
       "      <td>1.27308</td>\n",
       "      <td>0</td>\n",
       "    </tr>\n",
       "    <tr>\n",
       "      <td>4</td>\n",
       "      <td>2021-01-12</td>\n",
       "      <td>1.27724</td>\n",
       "      <td>1.27899</td>\n",
       "      <td>1.27327</td>\n",
       "      <td>1.27714</td>\n",
       "      <td>1.27714</td>\n",
       "      <td>0</td>\n",
       "    </tr>\n",
       "  </tbody>\n",
       "</table>\n",
       "</div>"
      ],
      "text/plain": [
       "         Date     Open     High      Low    Close  Adj Close  Volume\n",
       "0  2021-01-06  1.26764  1.27186  1.26300  1.26747    1.26747       0\n",
       "1  2021-01-07  1.26667  1.27327  1.26640  1.26654    1.26654       0\n",
       "2  2021-01-08  1.26854  1.27194  1.26590  1.26838    1.26838       0\n",
       "3  2021-01-11  1.27260  1.28341  1.27190  1.27308    1.27308       0\n",
       "4  2021-01-12  1.27724  1.27899  1.27327  1.27714    1.27714       0"
      ]
     },
     "execution_count": 2,
     "metadata": {},
     "output_type": "execute_result"
    }
   ],
   "source": [
    "sf = pd.read_csv(data_src)\n",
    "sf.head()"
   ]
  },
  {
   "cell_type": "code",
   "execution_count": 3,
   "metadata": {
    "scrolled": false
   },
   "outputs": [
    {
     "data": {
      "text/html": [
       "<div>\n",
       "<style scoped>\n",
       "    .dataframe tbody tr th:only-of-type {\n",
       "        vertical-align: middle;\n",
       "    }\n",
       "\n",
       "    .dataframe tbody tr th {\n",
       "        vertical-align: top;\n",
       "    }\n",
       "\n",
       "    .dataframe thead th {\n",
       "        text-align: right;\n",
       "    }\n",
       "</style>\n",
       "<table border=\"1\" class=\"dataframe\">\n",
       "  <thead>\n",
       "    <tr style=\"text-align: right;\">\n",
       "      <th></th>\n",
       "      <th>Date</th>\n",
       "      <th>Open</th>\n",
       "      <th>High</th>\n",
       "      <th>Low</th>\n",
       "      <th>Close</th>\n",
       "      <th>Adj Close</th>\n",
       "      <th>Volume</th>\n",
       "    </tr>\n",
       "  </thead>\n",
       "  <tbody>\n",
       "    <tr>\n",
       "      <td>257</td>\n",
       "      <td>2021-12-31</td>\n",
       "      <td>1.27430</td>\n",
       "      <td>1.27500</td>\n",
       "      <td>1.26268</td>\n",
       "      <td>1.27444</td>\n",
       "      <td>1.27444</td>\n",
       "      <td>0</td>\n",
       "    </tr>\n",
       "    <tr>\n",
       "      <td>258</td>\n",
       "      <td>2022-01-03</td>\n",
       "      <td>1.26571</td>\n",
       "      <td>1.27781</td>\n",
       "      <td>1.26440</td>\n",
       "      <td>1.26588</td>\n",
       "      <td>1.26588</td>\n",
       "      <td>0</td>\n",
       "    </tr>\n",
       "    <tr>\n",
       "      <td>259</td>\n",
       "      <td>2022-01-04</td>\n",
       "      <td>1.27514</td>\n",
       "      <td>1.27656</td>\n",
       "      <td>1.26672</td>\n",
       "      <td>1.27513</td>\n",
       "      <td>1.27513</td>\n",
       "      <td>0</td>\n",
       "    </tr>\n",
       "    <tr>\n",
       "      <td>260</td>\n",
       "      <td>2022-01-05</td>\n",
       "      <td>1.27035</td>\n",
       "      <td>1.27392</td>\n",
       "      <td>1.26911</td>\n",
       "      <td>1.27044</td>\n",
       "      <td>1.27044</td>\n",
       "      <td>0</td>\n",
       "    </tr>\n",
       "    <tr>\n",
       "      <td>261</td>\n",
       "      <td>2022-01-06</td>\n",
       "      <td>1.27550</td>\n",
       "      <td>1.28138</td>\n",
       "      <td>1.27040</td>\n",
       "      <td>1.27300</td>\n",
       "      <td>1.27300</td>\n",
       "      <td>0</td>\n",
       "    </tr>\n",
       "  </tbody>\n",
       "</table>\n",
       "</div>"
      ],
      "text/plain": [
       "           Date     Open     High      Low    Close  Adj Close  Volume\n",
       "257  2021-12-31  1.27430  1.27500  1.26268  1.27444    1.27444       0\n",
       "258  2022-01-03  1.26571  1.27781  1.26440  1.26588    1.26588       0\n",
       "259  2022-01-04  1.27514  1.27656  1.26672  1.27513    1.27513       0\n",
       "260  2022-01-05  1.27035  1.27392  1.26911  1.27044    1.27044       0\n",
       "261  2022-01-06  1.27550  1.28138  1.27040  1.27300    1.27300       0"
      ]
     },
     "execution_count": 3,
     "metadata": {},
     "output_type": "execute_result"
    }
   ],
   "source": [
    "sf.tail()"
   ]
  },
  {
   "cell_type": "code",
   "execution_count": 4,
   "metadata": {},
   "outputs": [
    {
     "data": {
      "text/html": [
       "<div>\n",
       "<style scoped>\n",
       "    .dataframe tbody tr th:only-of-type {\n",
       "        vertical-align: middle;\n",
       "    }\n",
       "\n",
       "    .dataframe tbody tr th {\n",
       "        vertical-align: top;\n",
       "    }\n",
       "\n",
       "    .dataframe thead th {\n",
       "        text-align: right;\n",
       "    }\n",
       "</style>\n",
       "<table border=\"1\" class=\"dataframe\">\n",
       "  <thead>\n",
       "    <tr style=\"text-align: right;\">\n",
       "      <th></th>\n",
       "      <th>Date</th>\n",
       "      <th>Price</th>\n",
       "    </tr>\n",
       "  </thead>\n",
       "  <tbody>\n",
       "    <tr>\n",
       "      <td>0</td>\n",
       "      <td>2021-03-01</td>\n",
       "      <td>NaN</td>\n",
       "    </tr>\n",
       "    <tr>\n",
       "      <td>1</td>\n",
       "      <td>2021-03-06</td>\n",
       "      <td>NaN</td>\n",
       "    </tr>\n",
       "    <tr>\n",
       "      <td>2</td>\n",
       "      <td>2021-03-11</td>\n",
       "      <td>NaN</td>\n",
       "    </tr>\n",
       "    <tr>\n",
       "      <td>3</td>\n",
       "      <td>2021-03-16</td>\n",
       "      <td>NaN</td>\n",
       "    </tr>\n",
       "    <tr>\n",
       "      <td>4</td>\n",
       "      <td>2021-03-21</td>\n",
       "      <td>NaN</td>\n",
       "    </tr>\n",
       "  </tbody>\n",
       "</table>\n",
       "</div>"
      ],
      "text/plain": [
       "        Date  Price\n",
       "0 2021-03-01    NaN\n",
       "1 2021-03-06    NaN\n",
       "2 2021-03-11    NaN\n",
       "3 2021-03-16    NaN\n",
       "4 2021-03-21    NaN"
      ]
     },
     "execution_count": 4,
     "metadata": {},
     "output_type": "execute_result"
    }
   ],
   "source": [
    "df = pd.read_excel(date_src)\n",
    "df.head()"
   ]
  },
  {
   "cell_type": "code",
   "execution_count": 5,
   "metadata": {},
   "outputs": [
    {
     "data": {
      "text/html": [
       "<div>\n",
       "<style scoped>\n",
       "    .dataframe tbody tr th:only-of-type {\n",
       "        vertical-align: middle;\n",
       "    }\n",
       "\n",
       "    .dataframe tbody tr th {\n",
       "        vertical-align: top;\n",
       "    }\n",
       "\n",
       "    .dataframe thead th {\n",
       "        text-align: right;\n",
       "    }\n",
       "</style>\n",
       "<table border=\"1\" class=\"dataframe\">\n",
       "  <thead>\n",
       "    <tr style=\"text-align: right;\">\n",
       "      <th></th>\n",
       "      <th>Date</th>\n",
       "      <th>Price</th>\n",
       "    </tr>\n",
       "  </thead>\n",
       "  <tbody>\n",
       "    <tr>\n",
       "      <td>57</td>\n",
       "      <td>2021-12-11</td>\n",
       "      <td>NaN</td>\n",
       "    </tr>\n",
       "    <tr>\n",
       "      <td>58</td>\n",
       "      <td>2021-12-16</td>\n",
       "      <td>NaN</td>\n",
       "    </tr>\n",
       "    <tr>\n",
       "      <td>59</td>\n",
       "      <td>2021-12-21</td>\n",
       "      <td>NaN</td>\n",
       "    </tr>\n",
       "    <tr>\n",
       "      <td>60</td>\n",
       "      <td>2021-12-26</td>\n",
       "      <td>NaN</td>\n",
       "    </tr>\n",
       "    <tr>\n",
       "      <td>61</td>\n",
       "      <td>2021-12-31</td>\n",
       "      <td>NaN</td>\n",
       "    </tr>\n",
       "  </tbody>\n",
       "</table>\n",
       "</div>"
      ],
      "text/plain": [
       "         Date  Price\n",
       "57 2021-12-11    NaN\n",
       "58 2021-12-16    NaN\n",
       "59 2021-12-21    NaN\n",
       "60 2021-12-26    NaN\n",
       "61 2021-12-31    NaN"
      ]
     },
     "execution_count": 5,
     "metadata": {},
     "output_type": "execute_result"
    }
   ],
   "source": [
    "df.tail()"
   ]
  },
  {
   "cell_type": "code",
   "execution_count": 7,
   "metadata": {},
   "outputs": [],
   "source": [
    "prices = []\n",
    "rowsf = 0\n",
    "rowdf = 0\n",
    "szsf = len(sf)\n",
    "szdf = len(df)"
   ]
  },
  {
   "cell_type": "code",
   "execution_count": 8,
   "metadata": {},
   "outputs": [],
   "source": [
    "while rowsf < szsf and rowdf < szdf:\n",
    "    if str(sf.iloc[rowsf,0]) == str(df.iloc[rowdf,0]):\n",
    "        prices.append(sf.iloc[rowsf, 2])\n",
    "        rowdf += 1\n",
    "    elif str(sf.iloc[rowsf,0]) >= str(df.iloc[rowdf,0]):\n",
    "        prices.append(sf.iloc[rowsf-1, 2])\n",
    "        rowdf += 1\n",
    "    rowsf += 1"
   ]
  },
  {
   "cell_type": "code",
   "execution_count": 9,
   "metadata": {},
   "outputs": [
    {
     "data": {
      "text/plain": [
       "62"
      ]
     },
     "execution_count": 9,
     "metadata": {},
     "output_type": "execute_result"
    }
   ],
   "source": [
    "len(prices)"
   ]
  },
  {
   "cell_type": "code",
   "execution_count": 10,
   "metadata": {},
   "outputs": [],
   "source": [
    "wb = load_workbook(date_src)\n",
    "ws = wb['Sheet1']\n",
    "df_new = pd.DataFrame({'Price': prices})\n",
    "for index, row in df_new.iterrows():\n",
    "    cell = 'B%d' % (index + 2)\n",
    "    ws[cell] = row[0]\n",
    "wb.save(date_src)"
   ]
  }
 ],
 "metadata": {
  "kernelspec": {
   "display_name": "Python 3",
   "language": "python",
   "name": "python3"
  },
  "language_info": {
   "codemirror_mode": {
    "name": "ipython",
    "version": 3
   },
   "file_extension": ".py",
   "mimetype": "text/x-python",
   "name": "python",
   "nbconvert_exporter": "python",
   "pygments_lexer": "ipython3",
   "version": "3.7.4"
  }
 },
 "nbformat": 4,
 "nbformat_minor": 2
}
